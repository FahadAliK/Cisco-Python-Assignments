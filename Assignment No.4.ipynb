{
 "cells": [
  {
   "cell_type": "markdown",
   "metadata": {},
   "source": [
    "# Question No.1"
   ]
  },
  {
   "cell_type": "markdown",
   "metadata": {},
   "source": [
    "**Use a dictionary to store information about a person you know. Store their first name, last name, age,\n",
    "and the city in which they live. You should have keys such as first_name, last_name, age, and city. Print\n",
    "each piece of information stored in your dictionary. Add a new key value pair about qualification then\n",
    "update the qualification value to high academic level then delete it.**"
   ]
  },
  {
   "cell_type": "code",
   "execution_count": 1,
   "metadata": {},
   "outputs": [],
   "source": [
    "person = {\n",
    "    'first_name':'Fahad Ali ',\n",
    "    'last_name':'Khan',\n",
    "    'age':22,\n",
    "    'city':'Karachi',\n",
    "}"
   ]
  },
  {
   "cell_type": "code",
   "execution_count": 2,
   "metadata": {},
   "outputs": [
    {
     "name": "stdout",
     "output_type": "stream",
     "text": [
      "first_name = Fahad Ali \n",
      "last_name = Khan\n",
      "age = 22\n",
      "city = Karachi\n"
     ]
    }
   ],
   "source": [
    "for k,v in person.items():\n",
    "    print(k,\"=\",v)"
   ]
  },
  {
   "cell_type": "code",
   "execution_count": 3,
   "metadata": {},
   "outputs": [],
   "source": [
    "person['qualification'] = 'first qualification'"
   ]
  },
  {
   "cell_type": "code",
   "execution_count": 4,
   "metadata": {},
   "outputs": [
    {
     "data": {
      "text/plain": [
       "{'first_name': 'Fahad Ali ',\n",
       " 'last_name': 'Khan',\n",
       " 'age': 22,\n",
       " 'city': 'Karachi',\n",
       " 'qualification': 'first qualification'}"
      ]
     },
     "execution_count": 4,
     "metadata": {},
     "output_type": "execute_result"
    }
   ],
   "source": [
    "person"
   ]
  },
  {
   "cell_type": "code",
   "execution_count": null,
   "metadata": {},
   "outputs": [],
   "source": [
    "person['qualification'] = 'high academic level'"
   ]
  },
  {
   "cell_type": "code",
   "execution_count": null,
   "metadata": {},
   "outputs": [
    {
     "name": "stdout",
     "output_type": "stream",
     "text": [
      "first_name = Fahad Ali \n",
      "last_name = Khan\n",
      "age = 22\n",
      "city = Karachi\n",
      "qualification = high academic level\n"
     ]
    }
   ],
   "source": [
    "for k,v in person.items():\n",
    "    print(k,\"=\",v)"
   ]
  },
  {
   "cell_type": "markdown",
   "metadata": {},
   "source": [
    "# Question No.2"
   ]
  },
  {
   "cell_type": "markdown",
   "metadata": {},
   "source": [
    "**Make a dictionary called cities. Use the names of three cities as keys in your dictionary. Create a\n",
    "dictionary of information about each city and include the country that the city is in, its approximate\n",
    "population, and one fact about that city. The keys for each city’s dictionary should be something like\n",
    "country, population, and fact. Print the name of each city and all of the information you have stored\n",
    "about it.**"
   ]
  },
  {
   "cell_type": "code",
   "execution_count": null,
   "metadata": {},
   "outputs": [],
   "source": [
    "cities = {\n",
    "    'Karachi':{\n",
    "        'Country': 'Pakistan',\n",
    "        'Population': '14.91 million',\n",
    "        'Fact': 'Largest City of Pakistan.'\n",
    "    },\n",
    "    'Toronto':{\n",
    "        'Country': 'Canada',\n",
    "        'Population':'2.93 million',\n",
    "        'Fact': 'Capital of Canada.'\n",
    "    },\n",
    "    'istanbul':{\n",
    "        'Country': 'Turkey',\n",
    "        'Population': '15.07 million',\n",
    "        'Fact': 'Capital of Turkey.'\n",
    "    },\n",
    "}"
   ]
  },
  {
   "cell_type": "code",
   "execution_count": null,
   "metadata": {},
   "outputs": [
    {
     "name": "stdout",
     "output_type": "stream",
     "text": [
      "Karachi\n",
      "Country : Pakistan\n",
      "Population : 14.91 million\n",
      "Fact : Largest City of Pakistan.\n",
      "========================\n",
      "Toronto\n",
      "Country : Canada\n",
      "Population : 2.93 million\n",
      "Fact : Capital of Canada.\n",
      "========================\n",
      "istanbul\n",
      "Country : Turkey\n",
      "Population : 15.07 million\n",
      "Fact : Capital of Turkey.\n",
      "========================\n"
     ]
    }
   ],
   "source": [
    "for k in cities.keys():\n",
    "    print(k)\n",
    "    for k1,v in cities[k].items():\n",
    "        print(k1,\":\",v)\n",
    "    print('========================')"
   ]
  },
  {
   "cell_type": "markdown",
   "metadata": {},
   "source": [
    "# Question No.3"
   ]
  },
  {
   "cell_type": "markdown",
   "metadata": {},
   "source": [
    "**A movie theater charges different ticket prices depending on a person’s age. If a person is under the age\n",
    "of 3, the ticket is free; if they are between 3 and 12, the ticket is 10; and if they are over age 12, the\n",
    "ticket is 15. Write a loop in which you ask users their age, and then tell them the cost of their movie\n",
    "ticket.**"
   ]
  },
  {
   "cell_type": "code",
   "execution_count": 2,
   "metadata": {},
   "outputs": [],
   "source": [
    "def input_age():\n",
    "    while True:\n",
    "        try:\n",
    "            age = int(input(\"Please enter your age:\"))\n",
    "            break\n",
    "        except:\n",
    "            print(\"Error: Please enter a valid age.!\")\n",
    "    return(age)"
   ]
  },
  {
   "cell_type": "code",
   "execution_count": 3,
   "metadata": {},
   "outputs": [
    {
     "name": "stdout",
     "output_type": "stream",
     "text": [
      "Please enter your age:\n",
      "Error: Please enter a valid age.!\n",
      "Please enter your age:2\n"
     ]
    },
    {
     "data": {
      "text/plain": [
       "2"
      ]
     },
     "execution_count": 3,
     "metadata": {},
     "output_type": "execute_result"
    }
   ],
   "source": [
    "input_age()"
   ]
  },
  {
   "cell_type": "code",
   "execution_count": 4,
   "metadata": {},
   "outputs": [
    {
     "name": "stdout",
     "output_type": "stream",
     "text": [
      "Please enter your age:2\n"
     ]
    }
   ],
   "source": [
    "while True:\n",
    "    age = input_age()\n",
    "    if age <= 3:\n",
    "        ticket = 'free'\n",
    "        break\n",
    "    elif age >= 3 and age <= 12:\n",
    "        ticket = 10\n",
    "        break\n",
    "    elif age > 12:\n",
    "        ticket = 15\n",
    "        break"
   ]
  },
  {
   "cell_type": "code",
   "execution_count": 6,
   "metadata": {},
   "outputs": [
    {
     "name": "stdout",
     "output_type": "stream",
     "text": [
      "Your ticket is: free\n"
     ]
    }
   ],
   "source": [
    "print('Your ticket is:', ticket)"
   ]
  },
  {
   "cell_type": "markdown",
   "metadata": {},
   "source": [
    "# Question No.4"
   ]
  },
  {
   "cell_type": "markdown",
   "metadata": {},
   "source": [
    "**Write a function called favorite_book() that accepts one parameter, title. The function should print a\n",
    "message, such as One of my favorite books is Alice in Wonderland. Call the function, making sure to\n",
    "include a book title as an argument in the function call.**"
   ]
  },
  {
   "cell_type": "code",
   "execution_count": 8,
   "metadata": {},
   "outputs": [],
   "source": [
    "def favorite_book(title):\n",
    "    print('One of my favorite books is', title)"
   ]
  },
  {
   "cell_type": "code",
   "execution_count": 9,
   "metadata": {},
   "outputs": [
    {
     "name": "stdout",
     "output_type": "stream",
     "text": [
      "One of my favorite books is alice in wonderland\n"
     ]
    }
   ],
   "source": [
    "favorite_book('alice in wonderland')"
   ]
  },
  {
   "cell_type": "markdown",
   "metadata": {},
   "source": [
    "# Question No.5"
   ]
  },
  {
   "cell_type": "markdown",
   "metadata": {},
   "source": [
    "**Guess the number game\n",
    "Write a program which randomly generate a number between 1 to 30 and ask the user in input field to\n",
    "guess the correct number. Give three chances to user guess the number and also give hint to user if\n",
    "hidden number is greater or smaller than the number he given to input field.**"
   ]
  },
  {
   "cell_type": "code",
   "execution_count": 30,
   "metadata": {},
   "outputs": [
    {
     "name": "stdout",
     "output_type": "stream",
     "text": [
      "Chance No. 1 :\n",
      "Enter your guess:2\n",
      "Your number is below from mine.!\n",
      "------------------------\n",
      "Chance No. 2 :\n",
      "Enter your guess:13\n",
      "Your number is below from mine.!\n",
      "------------------------\n",
      "Chance No. 3 :\n",
      "Enter your guess:25\n",
      "Your number is below from mine.!\n",
      "------------------------\n"
     ]
    }
   ],
   "source": [
    "from random import randint\n",
    "ranNum = randint(1, 30)\n",
    "for i in range(3):\n",
    "    print('Chance No.',(i + 1),\":\")\n",
    "    guess = int(input('Enter your guess:'))\n",
    "    if guess > ranNum:\n",
    "        print(\"Your number is away from mine!\")\n",
    "    elif guess < ranNum:\n",
    "        print(\"Your number is below from mine.!\")\n",
    "    elif guess == ranNum:\n",
    "        print(\"WOW! You guessed it right! its\", ranNum)\n",
    "    print(\"------------------------\")"
   ]
  },
  {
   "cell_type": "code",
   "execution_count": null,
   "metadata": {},
   "outputs": [],
   "source": []
  }
 ],
 "metadata": {
  "kernelspec": {
   "display_name": "Python 3",
   "language": "python",
   "name": "python3"
  },
  "language_info": {
   "codemirror_mode": {
    "name": "ipython",
    "version": 3
   },
   "file_extension": ".py",
   "mimetype": "text/x-python",
   "name": "python",
   "nbconvert_exporter": "python",
   "pygments_lexer": "ipython3",
   "version": "3.7.3"
  }
 },
 "nbformat": 4,
 "nbformat_minor": 2
}
