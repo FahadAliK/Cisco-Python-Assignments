{
 "cells": [
  {
   "cell_type": "markdown",
   "metadata": {},
   "source": [
    "# Question 1"
   ]
  },
  {
   "cell_type": "markdown",
   "metadata": {},
   "source": [
    "**Define Object Oriented Programming Language?**"
   ]
  },
  {
   "cell_type": "raw",
   "metadata": {},
   "source": [
    "An Object Oriented Programming Language has specific syntax for defining classes and objects.For example java language is specifically used for object oriented programming. OOP is a method of programming by which programmer can reduce the complex logics of his or her code.OOP is based on classes and defining their objects. In OOP we encapsulate the data and the functions which operate on that data."
   ]
  },
  {
   "cell_type": "markdown",
   "metadata": {},
   "source": [
    "# Question 2"
   ]
  },
  {
   "cell_type": "markdown",
   "metadata": {},
   "source": [
    "**List down the Benefits of OOP?**"
   ]
  },
  {
   "cell_type": "raw",
   "metadata": {},
   "source": [
    "1. It helps programmer to write complex programs easily.\n",
    "2. Easy debugging.\n",
    "3. If the data type changes then the functions operate on that data also changes but in OOP if data type changes we will not require to change all functions used in program, we can just change the functionality of class and the whole main program remains same!"
   ]
  },
  {
   "cell_type": "markdown",
   "metadata": {},
   "source": [
    "# Question 3"
   ]
  },
  {
   "cell_type": "markdown",
   "metadata": {},
   "source": [
    "**Differentiate between function and method?**"
   ]
  },
  {
   "cell_type": "raw",
   "metadata": {},
   "source": [
    "A function is simply a code block in which a specific logic is implemented and it take some data as argument and returns some output data.\n",
    "In sequential programming technique (modular programming) we make functions for each work and call that functions in a specific sequence.\n",
    "A method is also a function but it is associated with a class's object. The method is only called by using the object of a specific class."
   ]
  },
  {
   "cell_type": "markdown",
   "metadata": {},
   "source": [
    "# Question 4"
   ]
  },
  {
   "cell_type": "markdown",
   "metadata": {},
   "source": [
    "**Define the following terms:**\n",
    "**1. Class**\n",
    "**2. Object**\n",
    "**3. Attribute**\n",
    "**4. Behavior**"
   ]
  },
  {
   "cell_type": "raw",
   "metadata": {},
   "source": [
    "Classes and objects: A class is simply a templete by which we can create more objects which are look a like that templete. \n",
    "for example a map of house you can create as much houses as you want from that map , so the map is class and houses created from that map are objects.\n",
    "Attribute: Attribute is a variable which stores the information aur metadata related to that class. Attributes are used for storing the status of a class. Attributes can be processed only us using the methods of class.\n",
    "Behavior: Behavior or attribute is same thing. Behavior of a class can be defined by writing special functions inside the class."
   ]
  },
  {
   "cell_type": "markdown",
   "metadata": {},
   "source": [
    "# Question 5"
   ]
  },
  {
   "cell_type": "markdown",
   "metadata": {},
   "source": [
    "**Write a code in python in which create a class named it Car which\n",
    "have 5 attributes such like (model, color and name etc.) and 3\n",
    "methods. And create 5 object instance from that class.**"
   ]
  },
  {
   "cell_type": "code",
   "execution_count": 3,
   "metadata": {},
   "outputs": [],
   "source": [
    "class Car:\n",
    "    def __init__(self, model = '', color = '', name = ''):\n",
    "        self.model = model\n",
    "        self.color = color\n",
    "        self.name = name\n",
    "    def get_model(self):\n",
    "        return(self.model)\n",
    "    def get_color(self):\n",
    "        return(self.color)\n",
    "    def get_name(self):\n",
    "        return(self.name)\n",
    "    def set_model(self, new_model):\n",
    "        self.model = new_model\n",
    "    def set_color(self, new_color):\n",
    "        self.color = new_color\n",
    "    def set_name(self, new_name):\n",
    "        self.name = new_name"
   ]
  },
  {
   "cell_type": "code",
   "execution_count": 6,
   "metadata": {},
   "outputs": [],
   "source": [
    "my_car = Car(\"model 1\",\"color 1\",\"name 1\")"
   ]
  },
  {
   "cell_type": "code",
   "execution_count": 7,
   "metadata": {},
   "outputs": [
    {
     "name": "stdout",
     "output_type": "stream",
     "text": [
      "model 1\n",
      "color 1\n",
      "name 1\n"
     ]
    }
   ],
   "source": [
    "print(my_car.get_model())\n",
    "print(my_car.get_color())\n",
    "print(my_car.get_name())"
   ]
  },
  {
   "cell_type": "code",
   "execution_count": 9,
   "metadata": {},
   "outputs": [
    {
     "name": "stdout",
     "output_type": "stream",
     "text": [
      "Enter a model:a\n",
      "Enter a color:a\n",
      "Enter a name:a\n"
     ]
    }
   ],
   "source": [
    "my_car.set_model(input(\"Enter a model:\"))\n",
    "my_car.set_color(input(\"Enter a color:\"))\n",
    "my_car.set_name(input(\"Enter a name:\"))"
   ]
  },
  {
   "cell_type": "code",
   "execution_count": 10,
   "metadata": {},
   "outputs": [
    {
     "name": "stdout",
     "output_type": "stream",
     "text": [
      "a\n",
      "a\n",
      "a\n"
     ]
    }
   ],
   "source": [
    "print(my_car.get_model())\n",
    "print(my_car.get_color())\n",
    "print(my_car.get_name())"
   ]
  },
  {
   "cell_type": "code",
   "execution_count": 11,
   "metadata": {},
   "outputs": [],
   "source": [
    "car1 = Car('model 1','color 1','name 1')\n",
    "car2 = Car('model 2','color 2','name 2')\n",
    "car3 = Car('model 3','color 3','name 3')\n",
    "car4 = Car('model 4','color 4','name 4')\n",
    "car5 = Car('model 5','color 5','name 5')"
   ]
  },
  {
   "cell_type": "code",
   "execution_count": null,
   "metadata": {},
   "outputs": [],
   "source": []
  }
 ],
 "metadata": {
  "kernelspec": {
   "display_name": "Python 3",
   "language": "python",
   "name": "python3"
  },
  "language_info": {
   "codemirror_mode": {
    "name": "ipython",
    "version": 3
   },
   "file_extension": ".py",
   "mimetype": "text/x-python",
   "name": "python",
   "nbconvert_exporter": "python",
   "pygments_lexer": "ipython3",
   "version": "3.7.3"
  }
 },
 "nbformat": 4,
 "nbformat_minor": 2
}
