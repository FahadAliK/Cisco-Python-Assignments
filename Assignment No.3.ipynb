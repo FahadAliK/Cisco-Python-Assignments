{
 "cells": [
  {
   "cell_type": "markdown",
   "metadata": {},
   "source": [
    "**1. Make a calculator using Python with addition , subtraction , multiplication ,\n",
    "division and power.**"
   ]
  },
  {
   "cell_type": "code",
   "execution_count": 1,
   "metadata": {},
   "outputs": [],
   "source": [
    "def input_numbers():\n",
    "    nums = {'First Number': 0.0, 'Second Number': 0.0}\n",
    "    for key, value in nums.items():\n",
    "        print(\"Enter\", key,\":\")\n",
    "        while True:\n",
    "            try:\n",
    "                num = float(input())\n",
    "                break\n",
    "            except:\n",
    "                print(\"ERROR! Please Enter a number!\")\n",
    "        nums[key] = num\n",
    "    return(nums)"
   ]
  },
  {
   "cell_type": "code",
   "execution_count": 2,
   "metadata": {},
   "outputs": [],
   "source": [
    "def input_operator():\n",
    "    while True:\n",
    "        operator = input(\"Enter an Operator(+, -, *, /, %): \")\n",
    "        if operator in '+, -, *, /, %':\n",
    "            break\n",
    "        else:\n",
    "            print(\"ERROR! Please Enter a valid Operator.!\")\n",
    "    return(operator)"
   ]
  },
  {
   "cell_type": "code",
   "execution_count": 5,
   "metadata": {},
   "outputs": [
    {
     "name": "stdout",
     "output_type": "stream",
     "text": [
      "Enter First Number :\n",
      "4\n",
      "Enter Second Number :\n",
      "76\n",
      "Enter an Operator(+, -, *, /, %): /\n",
      "4.0 / 76.0 = 0.05263157894736842\n"
     ]
    }
   ],
   "source": [
    "def main():\n",
    "    numbers = input_numbers()\n",
    "    opertor = input_operator()\n",
    "    if opertor in '+':\n",
    "        print(str(numbers[\"First Number\"]), '+' , \n",
    "              str(numbers[\"Second Number\"]), \"=\", numbers[\"First Number\"] + numbers[\"Second Number\"])    \n",
    "    elif opertor == '-':\n",
    "        print(str(numbers[\"First Number\"]), '-', \n",
    "              str(numbers[\"Second Number\"]), \"=\", numbers[\"First Number\"] - numbers[\"Second Number\"])    \n",
    "    elif opertor == '*':\n",
    "        print(str(numbers[\"First Number\"]), '*', \n",
    "              str(numbers[\"Second Number\"]), \"=\", numbers[\"First Number\"] * numbers[\"Second Number\"])\n",
    "    elif opertor == '/':\n",
    "        print(str(numbers[\"First Number\"]), '/',\n",
    "              str(numbers[\"Second Number\"]), \"=\", numbers[\"First Number\"] / numbers[\"Second Number\"])\n",
    "    elif opertor == '%':\n",
    "        print(str(numbers[\"First Number\"]), '%', \n",
    "              str(numbers[\"Second Number\"]), \"=\", numbers[\"First Number\"] % numbers[\"Second Number\"])\n",
    "main()"
   ]
  },
  {
   "cell_type": "markdown",
   "metadata": {},
   "source": [
    "**2. Write a program to check if there is any numeric value in list using for loop**"
   ]
  },
  {
   "cell_type": "code",
   "execution_count": 7,
   "metadata": {},
   "outputs": [],
   "source": [
    "my_lst = ['Fahad', 1, 2, 3, False]"
   ]
  },
  {
   "cell_type": "code",
   "execution_count": 8,
   "metadata": {},
   "outputs": [],
   "source": [
    "def is_numeric_V(lst):\n",
    "    flag = False\n",
    "    for i in lst:\n",
    "        if str(i).isnumeric():\n",
    "            flag = True\n",
    "    return(flag)"
   ]
  },
  {
   "cell_type": "code",
   "execution_count": 9,
   "metadata": {},
   "outputs": [
    {
     "data": {
      "text/plain": [
       "True"
      ]
     },
     "execution_count": 9,
     "metadata": {},
     "output_type": "execute_result"
    }
   ],
   "source": [
    "is_numeric_V(my_lst)"
   ]
  },
  {
   "cell_type": "markdown",
   "metadata": {},
   "source": [
    "**3. Write a Python script to add a key to a dictionary**"
   ]
  },
  {
   "cell_type": "code",
   "execution_count": 17,
   "metadata": {},
   "outputs": [],
   "source": [
    "my_dic = {}"
   ]
  },
  {
   "cell_type": "code",
   "execution_count": 18,
   "metadata": {},
   "outputs": [
    {
     "name": "stdout",
     "output_type": "stream",
     "text": [
      "Please Enter a key for dictionary:key1\n"
     ]
    }
   ],
   "source": [
    "key = input(\"Please Enter a key for dictionary:\")\n",
    "my_dic[key] = \"\""
   ]
  },
  {
   "cell_type": "code",
   "execution_count": 19,
   "metadata": {},
   "outputs": [
    {
     "data": {
      "text/plain": [
       "{'key1': ''}"
      ]
     },
     "execution_count": 19,
     "metadata": {},
     "output_type": "execute_result"
    }
   ],
   "source": [
    "my_dic"
   ]
  },
  {
   "cell_type": "markdown",
   "metadata": {},
   "source": [
    "**4. Write a Python program to sum all the numeric items in a dictionary**"
   ]
  },
  {
   "cell_type": "code",
   "execution_count": 20,
   "metadata": {},
   "outputs": [],
   "source": [
    "my_dic = {'key1': 'Fahad', 'key2': 2, 'key3': 'Ali', 'key4': 3}"
   ]
  },
  {
   "cell_type": "code",
   "execution_count": 30,
   "metadata": {},
   "outputs": [],
   "source": [
    "total_sum = 0\n",
    "for i in my_dic.values():\n",
    "    if str(i).isnumeric():\n",
    "        total_sum += i"
   ]
  },
  {
   "cell_type": "code",
   "execution_count": 31,
   "metadata": {},
   "outputs": [
    {
     "data": {
      "text/plain": [
       "5"
      ]
     },
     "execution_count": 31,
     "metadata": {},
     "output_type": "execute_result"
    }
   ],
   "source": [
    "total_sum"
   ]
  },
  {
   "cell_type": "markdown",
   "metadata": {},
   "source": [
    "**5. Write a program to identify duplicate values from list**"
   ]
  },
  {
   "cell_type": "code",
   "execution_count": 38,
   "metadata": {},
   "outputs": [],
   "source": [
    "my_list = [1, 2, 3, 2, 1, 4, 5, 6, 5, 1, 2]"
   ]
  },
  {
   "cell_type": "code",
   "execution_count": 39,
   "metadata": {},
   "outputs": [],
   "source": [
    "repeats = []"
   ]
  },
  {
   "cell_type": "code",
   "execution_count": 44,
   "metadata": {},
   "outputs": [],
   "source": [
    "for i in my_list:\n",
    "    pop = my_list.pop()\n",
    "    if pop in repeats:\n",
    "        continue\n",
    "    elif pop in my_list:\n",
    "        repeats.append(pop)\n",
    "    repeats.sort()"
   ]
  },
  {
   "cell_type": "code",
   "execution_count": 45,
   "metadata": {},
   "outputs": [
    {
     "data": {
      "text/plain": [
       "[1, 2, 5]"
      ]
     },
     "execution_count": 45,
     "metadata": {},
     "output_type": "execute_result"
    }
   ],
   "source": [
    "repeats"
   ]
  },
  {
   "cell_type": "markdown",
   "metadata": {},
   "source": [
    "**6. Write a Python script to check if a given key already exists in a dictionary**"
   ]
  },
  {
   "cell_type": "code",
   "execution_count": 46,
   "metadata": {},
   "outputs": [
    {
     "data": {
      "text/plain": [
       "{'key1': 'Fahad', 'key2': 2, 'key3': 'Ali', 'key4': 3}"
      ]
     },
     "execution_count": 46,
     "metadata": {},
     "output_type": "execute_result"
    }
   ],
   "source": [
    "my_dic"
   ]
  },
  {
   "cell_type": "code",
   "execution_count": 47,
   "metadata": {},
   "outputs": [
    {
     "name": "stdout",
     "output_type": "stream",
     "text": [
      "Please Enter A key:key1\n"
     ]
    }
   ],
   "source": [
    "your_key = input(\"Please Enter A key:\")"
   ]
  },
  {
   "cell_type": "code",
   "execution_count": 48,
   "metadata": {},
   "outputs": [
    {
     "data": {
      "text/plain": [
       "dict_keys(['key1', 'key2', 'key3', 'key4'])"
      ]
     },
     "execution_count": 48,
     "metadata": {},
     "output_type": "execute_result"
    }
   ],
   "source": [
    "my_dic.keys()"
   ]
  },
  {
   "cell_type": "code",
   "execution_count": 51,
   "metadata": {},
   "outputs": [],
   "source": [
    "def is_already_exists(key, dic):\n",
    "    return(key == dic)"
   ]
  },
  {
   "cell_type": "code",
   "execution_count": 52,
   "metadata": {},
   "outputs": [
    {
     "data": {
      "text/plain": [
       "False"
      ]
     },
     "execution_count": 52,
     "metadata": {},
     "output_type": "execute_result"
    }
   ],
   "source": [
    "is_already_exists(your_key, my_dic)"
   ]
  },
  {
   "cell_type": "code",
   "execution_count": null,
   "metadata": {},
   "outputs": [],
   "source": []
  }
 ],
 "metadata": {
  "kernelspec": {
   "display_name": "Python 3",
   "language": "python",
   "name": "python3"
  },
  "language_info": {
   "codemirror_mode": {
    "name": "ipython",
    "version": 3
   },
   "file_extension": ".py",
   "mimetype": "text/x-python",
   "name": "python",
   "nbconvert_exporter": "python",
   "pygments_lexer": "ipython3",
   "version": "3.7.3"
  }
 },
 "nbformat": 4,
 "nbformat_minor": 2
}
