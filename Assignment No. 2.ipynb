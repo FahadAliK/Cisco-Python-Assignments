{
 "cells": [
  {
   "cell_type": "markdown",
   "metadata": {},
   "source": [
    "**1. Write a program which takes 5 inputs from user for different subject’s\n",
    "marks, total it and generate mark sheet using grades ?**"
   ]
  },
  {
   "cell_type": "code",
   "execution_count": 32,
   "metadata": {},
   "outputs": [
    {
     "name": "stdout",
     "output_type": "stream",
     "text": [
      "Enter Marks Of  English  Subject:\n",
      "22\n",
      "Enter Marks Of  Sindhi  Subject:\n",
      "22\n",
      "Enter Marks Of  Computer  Subject:\n",
      "22\n",
      "Enter Marks Of  Chemistry  Subject:\n",
      "22\n",
      "Enter Marks Of  Pakistan Studies  Subject:\n",
      "22\n",
      "Percentage:  22.0 %\n",
      "Grade:  F\n"
     ]
    }
   ],
   "source": [
    "# Program for calculating percentage and grade.\n",
    "# This function will input marks\n",
    "def input_marks():\n",
    "    dic = {\"English\":0, \"Sindhi\":0, \"Computer\":0, \"Chemistry\":0, \"Pakistan Studies\":0}\n",
    "    for key, value in dic.items():\n",
    "        print(\"Enter Marks Of \",key,\" Subject:\")\n",
    "        while True:\n",
    "            try:\n",
    "                mark = float(input())\n",
    "                if mark <= 100 and mark >= 0:\n",
    "                    break\n",
    "                else:\n",
    "                    print(\"Enter a number in between 0 and 100.!\")\n",
    "            except:\n",
    "                print(\"Please.! Enter a number!\")\n",
    "        dic[key] = mark\n",
    "    return(list(dic.values()))\n",
    "# This function will calculate percentage.\n",
    "def calculate_percentage(marks_list):\n",
    "    percentage = sum(marks_list) / 500.0\n",
    "    percentage *= 100\n",
    "    return(percentage)\n",
    "# This function will determine grade\n",
    "def determine_grade(percentage):\n",
    "    if percentage <= 100 and percentage >= 80:\n",
    "        grade = \"A-One\"\n",
    "    elif percentage <= 79 and percentage >= 70:\n",
    "        grade = \"A\"\n",
    "    elif percentage <= 69 and percentage >= 60:\n",
    "        grade = \"B\"\n",
    "    elif percentage <= 59 and percentage >= 50:\n",
    "        grade = \"C\"\n",
    "    elif percentage <= 49 and percentage >= 40:\n",
    "        grade = \"D\"\n",
    "    elif percentage <= 39 and percentage >= 30:\n",
    "        grade = \"E\"\n",
    "    else:\n",
    "        grade = \"F\"\n",
    "    return(grade)\n",
    "def main():\n",
    "    marks_of_subjects = input_marks()\n",
    "    percentage = calculate_percentage(marks_of_subjects)\n",
    "    grade = determine_grade(percentage)\n",
    "    print(\"Percentage: \",percentage,\"%\")\n",
    "    print(\"Grade: \",grade)\n",
    "main()"
   ]
  },
  {
   "cell_type": "markdown",
   "metadata": {},
   "source": [
    "**2. Write a program which take input from user and identify that the given\n",
    "number is even or odd?**"
   ]
  },
  {
   "cell_type": "code",
   "execution_count": 66,
   "metadata": {},
   "outputs": [
    {
     "name": "stdout",
     "output_type": "stream",
     "text": [
      "Enter a number:33\n",
      "Number is odd.!\n"
     ]
    }
   ],
   "source": [
    "def main():\n",
    "    if is_even(input_number()):\n",
    "        print(\"Number is even!\")\n",
    "    else:\n",
    "        print(\"Number is odd.!\")\n",
    "main()"
   ]
  },
  {
   "cell_type": "markdown",
   "metadata": {},
   "source": [
    "**3. Write a program which print the length of the list?**"
   ]
  },
  {
   "cell_type": "code",
   "execution_count": 67,
   "metadata": {},
   "outputs": [
    {
     "name": "stdout",
     "output_type": "stream",
     "text": [
      "Lenght of list is: 5\n"
     ]
    }
   ],
   "source": [
    "my_list = [1, 2, 3, 4, 5]\n",
    "print(\"Lenght of list is:\", len(my_list))"
   ]
  },
  {
   "cell_type": "markdown",
   "metadata": {},
   "source": [
    "**4. Write a Python program to sum all the numeric items in a list?**"
   ]
  },
  {
   "cell_type": "code",
   "execution_count": 76,
   "metadata": {},
   "outputs": [
    {
     "name": "stdout",
     "output_type": "stream",
     "text": [
      "Sum of numeric values in list is: 6.0\n"
     ]
    }
   ],
   "source": [
    "sumNums = 0\n",
    "my_list = [1, 2, 3, \"A\", \"B\"]\n",
    "for item in my_list:\n",
    "    try:\n",
    "        sumNums += float(item)\n",
    "    except:\n",
    "        continue\n",
    "print(\"Sum of numeric values in list is:\", sumNums)"
   ]
  },
  {
   "cell_type": "code",
   "execution_count": null,
   "metadata": {},
   "outputs": [],
   "source": []
  },
  {
   "cell_type": "code",
   "execution_count": null,
   "metadata": {},
   "outputs": [],
   "source": []
  }
 ],
 "metadata": {
  "kernelspec": {
   "display_name": "Python 3",
   "language": "python",
   "name": "python3"
  },
  "language_info": {
   "codemirror_mode": {
    "name": "ipython",
    "version": 3
   },
   "file_extension": ".py",
   "mimetype": "text/x-python",
   "name": "python",
   "nbconvert_exporter": "python",
   "pygments_lexer": "ipython3",
   "version": "3.7.3"
  }
 },
 "nbformat": 4,
 "nbformat_minor": 2
}
