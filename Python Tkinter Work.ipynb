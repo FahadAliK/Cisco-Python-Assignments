{
 "cells": [
  {
   "cell_type": "code",
   "execution_count": null,
   "metadata": {},
   "outputs": [],
   "source": [
    "#"
   ]
  },
  {
   "cell_type": "code",
   "execution_count": 1,
   "metadata": {},
   "outputs": [],
   "source": [
    "import tkinter\n",
    "class MyGUI:\n",
    "    def __init__(self):\n",
    "        # creating main window\n",
    "        self.main_window = tkinter.Tk()\n",
    "        # creating frames\n",
    "        self.test1_frame = tkinter.Frame(self.main_window)\n",
    "        self.test2_frame = tkinter.Frame(self.main_window)\n",
    "        self.test3_frame = tkinter.Frame(self.main_window)\n",
    "        self.avg_frame = tkinter.Frame(self.main_window)\n",
    "        self.button_frame = tkinter.Frame(self.main_window)\n",
    "        # creating widgets for test1_frame\n",
    "        self.test1_label = tkinter.Label(self.test1_frame, text = 'Enter the score test 1:')\n",
    "        self.test1_entry = tkinter.Entry(self.test1_frame, width = 10)\n",
    "        # packing test1_frame widgets\n",
    "        self.test1_label.pack(side = 'left')\n",
    "        self.test1_entry.pack(side = 'left')\n",
    "        # creating widgets for test2_frame\n",
    "        self.test2_label = tkinter.Label(self.test2_frame, text = 'Enter the score test 2:')\n",
    "        self.test2_entry = tkinter.Entry(self.test2_frame, width = 10)\n",
    "        # packing test2_frame widgets\n",
    "        self.test2_label.pack(side = 'left')\n",
    "        self.test2_entry.pack(side = 'left')\n",
    "        # creating widgets for test3_frame\n",
    "        self.test3_label = tkinter.Label(self.test3_frame, text = 'Enter the score test 3:')\n",
    "        self.test3_entry = tkinter.Entry(self.test3_frame, width = 10)\n",
    "        # packing test3_frame widgets\n",
    "        self.test3_label.pack(side = 'left')\n",
    "        self.test3_entry.pack(side = 'left')\n",
    "        # creating widgets for avg_frame\n",
    "        self.avg_label = tkinter.Label(self.avg_frame, text = 'Average:')\n",
    "        self.avg_value = tkinter.StringVar()\n",
    "        self.result_label = tkinter.Label(self.avg_frame, textvariable = self.avg_value)\n",
    "        # packing avg_frame widgets\n",
    "        self.avg_label.pack(side = 'left')\n",
    "        self.result_label.pack(side = 'left')\n",
    "        # creating widgets for button_frame\n",
    "        self.calc_button = tkinter.Button(self.button_frame, text = \"Average\", command = self.average)\n",
    "        self.quit_button = tkinter.Button(self.button_frame, text = 'Quit', command = self.main_window.destroy)\n",
    "        # packing button_frame widgets\n",
    "        self.calc_button.pack(side = 'left')\n",
    "        self.quit_button.pack(side = 'right')\n",
    "        # packing frames\n",
    "        self.test1_frame.pack()\n",
    "        self.test2_frame.pack()\n",
    "        self.test3_frame.pack()\n",
    "        self.avg_frame.pack()\n",
    "        self.button_frame.pack()\n",
    "        # enter in main loop\n",
    "        tkinter.mainloop()\n",
    "    def average(self):\n",
    "        mark1 = float(self.test1_entry.get())\n",
    "        mark2 = float(self.test2_entry.get())\n",
    "        mark3 = float(self.test3_entry.get())\n",
    "        average_marks = (mark1 + mark2 + mark3) / 3.0\n",
    "        self.avg_value.set(average_marks)\n",
    "my_gui = MyGUI()"
   ]
  },
  {
   "cell_type": "code",
   "execution_count": null,
   "metadata": {},
   "outputs": [],
   "source": []
  }
 ],
 "metadata": {
  "kernelspec": {
   "display_name": "Python 3",
   "language": "python",
   "name": "python3"
  },
  "language_info": {
   "codemirror_mode": {
    "name": "ipython",
    "version": 3
   },
   "file_extension": ".py",
   "mimetype": "text/x-python",
   "name": "python",
   "nbconvert_exporter": "python",
   "pygments_lexer": "ipython3",
   "version": "3.7.3"
  }
 },
 "nbformat": 4,
 "nbformat_minor": 2
}
