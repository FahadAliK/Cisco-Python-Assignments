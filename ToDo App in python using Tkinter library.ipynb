{
 "cells": [
  {
   "cell_type": "code",
   "execution_count": 1,
   "metadata": {},
   "outputs": [],
   "source": [
    "import tkinter\n",
    "class ToDoApp:\n",
    "    def __init__(self):\n",
    "        # creating main window\n",
    "        self.main_window = tkinter.Tk()\n",
    "        # creating frames\n",
    "        # creating top frame\n",
    "        self.top_frame = tkinter.Frame(self.main_window)\n",
    "        # creating bottom frame for items\n",
    "        self.bottom_frame = tkinter.Frame(self.main_window)\n",
    "        # creating widgets for top frame\n",
    "        # creating a header for app\n",
    "        self.header = tkinter.Label(self.top_frame, text = '====== ToDo App ======')\n",
    "        # creating a promt label\n",
    "        self.promt_label = tkinter.Label(self.top_frame, text = 'Enter an item:')\n",
    "        # create an entry for item\n",
    "        self.item_entry = tkinter.Entry(self.top_frame, width = 20)\n",
    "        # create an add item button\n",
    "        self.add_item_button = tkinter.Button(self.top_frame, text = 'Add Item'\n",
    "                                              , command = self.add_item)\n",
    "        # packing top frame widgets\n",
    "        # paking the header\n",
    "        self.header.pack()\n",
    "        # paking the promp label\n",
    "        self.promt_label.pack(side = 'left')\n",
    "        # packing the item entry\n",
    "        self.item_entry.pack(side = 'left')\n",
    "        # packing the add item button\n",
    "        self.add_item_button.pack(side = 'left')\n",
    "        # creating widgets for bottom frame\n",
    "        # create a StringVar object for storing item\n",
    "        self.item = tkinter.StringVar()\n",
    "        # creating a item no. labels for added items\n",
    "        self.descr_label = tkinter.Label(self.bottom_frame, text = 'Added item is:')\n",
    "        # creating a label for showing StringVar object's value\n",
    "        self.item_label = tkinter.Label(self.bottom_frame, textvariable = self.item)\n",
    "        # creating delete button for item\n",
    "        self.delete_button = tkinter.Button(self.bottom_frame, text = 'Delete'\n",
    "                                           , command = self.delete_item)\n",
    "        # packing bottom frame widgets\n",
    "        # packing descr_label for added item\n",
    "        self.descr_label.pack(side = 'left')\n",
    "        # packing item label\n",
    "        self.item_label.pack(side = 'left')\n",
    "        # packing delete button\n",
    "        self.delete_button.pack()\n",
    "        # packing the frames\n",
    "        self.top_frame.pack()\n",
    "        self.bottom_frame.pack()\n",
    "        # enter in main loop\n",
    "        tkinter.mainloop()\n",
    "    def add_item(self):\n",
    "        item = self.item_entry.get()\n",
    "        self.item.set(item)\n",
    "    def delete_item(self):\n",
    "        self.item.set(\"\")\n",
    "todo_app = ToDoApp()"
   ]
  },
  {
   "cell_type": "code",
   "execution_count": null,
   "metadata": {},
   "outputs": [],
   "source": []
  }
 ],
 "metadata": {
  "kernelspec": {
   "display_name": "Python 3",
   "language": "python",
   "name": "python3"
  },
  "language_info": {
   "codemirror_mode": {
    "name": "ipython",
    "version": 3
   },
   "file_extension": ".py",
   "mimetype": "text/x-python",
   "name": "python",
   "nbconvert_exporter": "python",
   "pygments_lexer": "ipython3",
   "version": "3.7.3"
  }
 },
 "nbformat": 4,
 "nbformat_minor": 2
}
